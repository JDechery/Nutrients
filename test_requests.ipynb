{
 "cells": [
  {
   "cell_type": "code",
   "execution_count": 17,
   "metadata": {
    "collapsed": true
   },
   "outputs": [],
   "source": [
    "import requests\n",
    "import pandas as pd\n",
    "import json\n",
    "import sqlite3\n",
    "###pull item data from database to create nutrient request\n",
    "###compile nutrient data into second database"
   ]
  },
  {
   "cell_type": "code",
   "execution_count": 12,
   "metadata": {},
   "outputs": [
    {
     "name": "stdout",
     "output_type": "stream",
     "text": [
      "200\n",
      "https://api.nal.usda.gov/ndb/list?format=json&lt=f&sort=n&max=2&api_key=0nDIJuT0aCiNbIiwxVIpAWRUKauc4EdLNQgSjUc1\n"
     ]
    }
   ],
   "source": [
    "apikey = '0nDIJuT0aCiNbIiwxVIpAWRUKauc4EdLNQgSjUc1'\n",
    "#listtype = 'f'\n",
    "#sorttype = 'n'\n",
    "#length = 1\n",
    "\n",
    "list_url = 'https://api.nal.usda.gov/ndb/list'\n",
    "data = {'format' : 'json',\n",
    "        'lt'     : 'f',\n",
    "        'sort'   : 'n',\n",
    "        'max'    : '2',\n",
    "        'api_key': apikey}\n",
    "\n",
    "item_list = requests.get(list_url, params=data)\n",
    "\n",
    "print(item_list.status_code)\n",
    "print(item_list.url)"
   ]
  },
  {
   "cell_type": "code",
   "execution_count": 20,
   "metadata": {},
   "outputs": [
    {
     "ename": "OperationalError",
     "evalue": "table items already exists",
     "output_type": "error",
     "traceback": [
      "\u001b[1;31m---------------------------------------------------------------------------\u001b[0m",
      "\u001b[1;31mOperationalError\u001b[0m                          Traceback (most recent call last)",
      "\u001b[1;32m<ipython-input-20-992aa4355e55>\u001b[0m in \u001b[0;36m<module>\u001b[1;34m()\u001b[0m\n\u001b[0;32m      3\u001b[0m \u001b[0mc\u001b[0m \u001b[1;33m=\u001b[0m \u001b[0mconn\u001b[0m\u001b[1;33m.\u001b[0m\u001b[0mcursor\u001b[0m\u001b[1;33m(\u001b[0m\u001b[1;33m)\u001b[0m\u001b[1;33m\u001b[0m\u001b[0m\n\u001b[0;32m      4\u001b[0m \u001b[1;33m\u001b[0m\u001b[0m\n\u001b[1;32m----> 5\u001b[1;33m \u001b[0mc\u001b[0m\u001b[1;33m.\u001b[0m\u001b[0mexecute\u001b[0m\u001b[1;33m(\u001b[0m\u001b[1;34m'CREATE TABLE items (id INTEGER PRIMARY KEY, name string)'\u001b[0m\u001b[1;33m)\u001b[0m\u001b[1;33m\u001b[0m\u001b[0m\n\u001b[0m\u001b[0;32m      6\u001b[0m \u001b[1;33m\u001b[0m\u001b[0m\n\u001b[0;32m      7\u001b[0m \u001b[0mitem_jsondata\u001b[0m \u001b[1;33m=\u001b[0m \u001b[0mitem_list\u001b[0m\u001b[1;33m.\u001b[0m\u001b[0mjson\u001b[0m\u001b[1;33m(\u001b[0m\u001b[1;33m)\u001b[0m\u001b[1;33m\u001b[0m\u001b[0m\n",
      "\u001b[1;31mOperationalError\u001b[0m: table items already exists"
     ]
    }
   ],
   "source": [
    "dbfile = 'F:/Data/nutrients_database.sqlite'\n",
    "conn = sqlite3.connect(dbfile)\n",
    "c = conn.cursor()\n",
    "\n",
    "c.execute('CREATE TABLE items (id INTEGER PRIMARY KEY, name string)')"
   ]
  },
  {
   "cell_type": "code",
   "execution_count": 50,
   "metadata": {},
   "outputs": [
    {
     "name": "stdout",
     "output_type": "stream",
     "text": [
      "{45137745: '!AJUA!, CAFFEINE FREE SODA, MANDARIN ORANGE, UPC: 061500127178', 45137747: '!AJUA!, CAFFEINE FREE SODA, PINEAPPLE, UPC: 061500127161'}\n"
     ]
    }
   ],
   "source": [
    "item_jsondata = item_list.json()\n",
    "\n",
    "items = item_jsondata['list']['item']\n",
    "item_ids = [(int(it['id']),str(it['name'])) for it in items]\n",
    "#item_ids = [(x[0], ' '.join(list(filter(str.isalnum, x[1])))) for x in item_ids]\n",
    "\n",
    "item_ids = dict(item_ids)\n",
    "\n",
    "print(item_ids)"
   ]
  },
  {
   "cell_type": "code",
   "execution_count": 45,
   "metadata": {
    "scrolled": true
   },
   "outputs": [
    {
     "name": "stdout",
     "output_type": "stream",
     "text": [
      "asdfasdf\n"
     ]
    }
   ],
   "source": [
    "x = 'asdf!#@!asdf'\n",
    "print(''.join(list(filter(str.isalnum,x))))"
   ]
  },
  {
   "cell_type": "code",
   "execution_count": 55,
   "metadata": {
    "collapsed": true
   },
   "outputs": [],
   "source": [
    "for key, val in item_ids.items():\n",
    "    c.execute('INSERT OR IGNORE INTO items VALUES (?, ?);', (key, val))\n"
   ]
  },
  {
   "cell_type": "code",
   "execution_count": 56,
   "metadata": {
    "collapsed": true
   },
   "outputs": [],
   "source": [
    "conn.commit()\n",
    "conn.close()"
   ]
  },
  {
   "cell_type": "code",
   "execution_count": 15,
   "metadata": {},
   "outputs": [
    {
     "name": "stdout",
     "output_type": "stream",
     "text": [
      "['45137745', '45137747']\n",
      "200\n",
      "https://api.nal.usda.gov/ndb/reports?ndbno=45137745&type=b&format=json&api_key=0nDIJuT0aCiNbIiwxVIpAWRUKauc4EdLNQgSjUc1\n"
     ]
    }
   ],
   "source": [
    "item_jsondata = item_list.json()\n",
    "\n",
    "items = item_jsondata['list']['item']\n",
    "item_ids = [it['id'] for it in items]\n",
    "\n",
    "#print(item_ids)\n",
    "\n",
    "nutrient_url = 'https://api.nal.usda.gov/ndb/reports'\n",
    "data = {'ndbno'  : item_ids[0],\n",
    "        'type'   : 'b',\n",
    "        'format' : 'json',\n",
    "        'api_key': apikey}\n",
    "\n",
    "food_report = requests.get(nutrient_url, params=data)\n",
    "print(food_report.status_code)\n",
    "print(food_report.url)"
   ]
  },
  {
   "cell_type": "code",
   "execution_count": 58,
   "metadata": {},
   "outputs": [
    {
     "name": "stdout",
     "output_type": "stream",
     "text": [
      "a\n",
      "s\n",
      "d\n",
      "f\n"
     ]
    }
   ],
   "source": [
    "import time\n",
    "\n",
    "for letter in 'asdf':\n",
    "    print(letter)\n",
    "    time.sleep(1)"
   ]
  }
 ],
 "metadata": {
  "kernelspec": {
   "display_name": "Python 3",
   "language": "python",
   "name": "python3"
  },
  "language_info": {
   "codemirror_mode": {
    "name": "ipython",
    "version": 3
   },
   "file_extension": ".py",
   "mimetype": "text/x-python",
   "name": "python",
   "nbconvert_exporter": "python",
   "pygments_lexer": "ipython3",
   "version": "3.6.2"
  }
 },
 "nbformat": 4,
 "nbformat_minor": 2
}
